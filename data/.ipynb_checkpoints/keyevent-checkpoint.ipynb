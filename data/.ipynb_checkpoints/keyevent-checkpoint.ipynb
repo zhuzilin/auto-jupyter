{
 "cells": [
  {
   "cell_type": "markdown",
   "metadata": {},
   "source": [
    "# Basic Analysis of Keyevent"
   ]
  },
  {
   "cell_type": "code",
   "execution_count": 1,
   "metadata": {},
   "outputs": [
    {
     "name": "stdout",
     "output_type": "stream",
     "text": [
      "Using matplotlib backend: Qt5Agg\n"
     ]
    }
   ],
   "source": [
    "# import packages\n",
    "import numpy as np\n",
    "import pandas as pd\n",
    "import matplotlib.pyplot as plt\n",
    "import seaborn as sns\n",
    "%matplotlib"
   ]
  },
  {
   "cell_type": "code",
   "execution_count": 2,
   "metadata": {},
   "outputs": [],
   "source": [
    "df = pd.read_csv(r'E:\\Git\\auto_jupyter\\data\\keyevent.csv')"
   ]
  },
  {
   "cell_type": "code",
   "execution_count": 3,
   "metadata": {},
   "outputs": [
    {
     "name": "stdout",
     "output_type": "stream",
     "text": [
      "<class 'pandas.core.frame.DataFrame'>\n",
      "RangeIndex: 199400 entries, 0 to 199399\n",
      "Data columns (total 6 columns):\n",
      "permno               199400 non-null int64\n",
      "keyDevEventTypeId    199400 non-null int64\n",
      "announcedate         199400 non-null int64\n",
      "companyName          199400 non-null object\n",
      "headline             199400 non-null object\n",
      "situation            199387 non-null object\n",
      "dtypes: int64(3), object(3)\n",
      "memory usage: 9.1+ MB\n"
     ]
    }
   ],
   "source": [
    "df.info()"
   ]
  },
  {
   "cell_type": "code",
   "execution_count": 4,
   "metadata": {},
   "outputs": [
    {
     "data": {
      "text/html": [
       "<div>\n",
       "<style scoped>\n",
       "    .dataframe tbody tr th:only-of-type {\n",
       "        vertical-align: middle;\n",
       "    }\n",
       "\n",
       "    .dataframe tbody tr th {\n",
       "        vertical-align: top;\n",
       "    }\n",
       "\n",
       "    .dataframe thead th {\n",
       "        text-align: right;\n",
       "    }\n",
       "</style>\n",
       "<table border=\"1\" class=\"dataframe\">\n",
       "  <thead>\n",
       "    <tr style=\"text-align: right;\">\n",
       "      <th></th>\n",
       "      <th>permno</th>\n",
       "      <th>keyDevEventTypeId</th>\n",
       "      <th>announcedate</th>\n",
       "      <th>companyName</th>\n",
       "      <th>headline</th>\n",
       "      <th>situation</th>\n",
       "    </tr>\n",
       "  </thead>\n",
       "  <tbody>\n",
       "    <tr>\n",
       "      <th>0</th>\n",
       "      <td>88280</td>\n",
       "      <td>51</td>\n",
       "      <td>20171017</td>\n",
       "      <td>Berkshire Hills Bancorp, Inc.</td>\n",
       "      <td>Berkshire Hills Bancorp Inc. Presents at Three...</td>\n",
       "      <td>Berkshire Hills Bancorp Inc. Presents at Three...</td>\n",
       "    </tr>\n",
       "    <tr>\n",
       "      <th>1</th>\n",
       "      <td>31077</td>\n",
       "      <td>83</td>\n",
       "      <td>20160202</td>\n",
       "      <td>Cubic Corporation</td>\n",
       "      <td>Cubic Corporation announced that it has receiv...</td>\n",
       "      <td>Cubic Corporation (NYSE:CUB) announced a priva...</td>\n",
       "    </tr>\n",
       "    <tr>\n",
       "      <th>2</th>\n",
       "      <td>88280</td>\n",
       "      <td>51</td>\n",
       "      <td>20171017</td>\n",
       "      <td>Berkshire Hills Bancorp, Inc.</td>\n",
       "      <td>Berkshire Hills Bancorp Inc. Presents at Sandl...</td>\n",
       "      <td>Berkshire Hills Bancorp Inc. Presents at Sandl...</td>\n",
       "    </tr>\n",
       "    <tr>\n",
       "      <th>3</th>\n",
       "      <td>88908</td>\n",
       "      <td>93</td>\n",
       "      <td>20170501</td>\n",
       "      <td>CenterState Bank Corporation</td>\n",
       "      <td>CenterState Banks, Inc. has filed a Shelf Regi...</td>\n",
       "      <td>CenterState Banks, Inc. has filed a Shelf Regi...</td>\n",
       "    </tr>\n",
       "    <tr>\n",
       "      <th>4</th>\n",
       "      <td>15029</td>\n",
       "      <td>51</td>\n",
       "      <td>20171204</td>\n",
       "      <td>California Resources Corporation</td>\n",
       "      <td>California Resources Corporation Presents at B...</td>\n",
       "      <td>California Resources Corporation Presents at B...</td>\n",
       "    </tr>\n",
       "  </tbody>\n",
       "</table>\n",
       "</div>"
      ],
      "text/plain": [
       "   permno  keyDevEventTypeId  announcedate                       companyName  \\\n",
       "0   88280                 51      20171017     Berkshire Hills Bancorp, Inc.   \n",
       "1   31077                 83      20160202                 Cubic Corporation   \n",
       "2   88280                 51      20171017     Berkshire Hills Bancorp, Inc.   \n",
       "3   88908                 93      20170501      CenterState Bank Corporation   \n",
       "4   15029                 51      20171204  California Resources Corporation   \n",
       "\n",
       "                                            headline  \\\n",
       "0  Berkshire Hills Bancorp Inc. Presents at Three...   \n",
       "1  Cubic Corporation announced that it has receiv...   \n",
       "2  Berkshire Hills Bancorp Inc. Presents at Sandl...   \n",
       "3  CenterState Banks, Inc. has filed a Shelf Regi...   \n",
       "4  California Resources Corporation Presents at B...   \n",
       "\n",
       "                                           situation  \n",
       "0  Berkshire Hills Bancorp Inc. Presents at Three...  \n",
       "1  Cubic Corporation (NYSE:CUB) announced a priva...  \n",
       "2  Berkshire Hills Bancorp Inc. Presents at Sandl...  \n",
       "3  CenterState Banks, Inc. has filed a Shelf Regi...  \n",
       "4  California Resources Corporation Presents at B...  "
      ]
     },
     "execution_count": 4,
     "metadata": {},
     "output_type": "execute_result"
    }
   ],
   "source": [
    "df.head()"
   ]
  },
  {
   "cell_type": "code",
   "execution_count": 5,
   "metadata": {},
   "outputs": [
    {
     "name": "stdout",
     "output_type": "stream",
     "text": [
      "permno: <class 'numpy.int64'>\n",
      "keyDevEventTypeId: <class 'numpy.int64'>\n",
      "announcedate: <class 'numpy.int64'>\n",
      "companyName: <class 'str'>\n",
      "headline: <class 'str'>\n",
      "situation: <class 'str'>\n"
     ]
    }
   ],
   "source": [
    "# check data types\n",
    "for column in df.columns.values:\n",
    "    line = '{}: '.format(column)\n",
    "    if type(df[column][0]) == list:\n",
    "        line += 'list of {}'.format(str(type(df[column][0][0])))\n",
    "    else:\n",
    "        line += str(type(df[column][0]))\n",
    "    print(line)\n"
   ]
  }
 ],
 "metadata": {
  "kernelspec": {
   "display_name": "Python 3",
   "language": "python",
   "name": "python3"
  },
  "language_info": {
   "codemirror_mode": {
    "name": "ipython",
    "version": 3
   },
   "file_extension": ".py",
   "mimetype": "text/x-python",
   "name": "python",
   "nbconvert_exporter": "python",
   "pygments_lexer": "ipython3",
   "version": "3.6.4"
  }
 },
 "nbformat": 4,
 "nbformat_minor": 2
}
